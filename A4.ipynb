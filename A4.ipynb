{
 "cells": [
  {
   "cell_type": "markdown",
   "metadata": {},
   "source": [
    "## Download and Clean Dataset\n",
    "#### Let's start by importing the pandas and the Numpy libraries."
   ]
  },
  {
   "cell_type": "code",
   "execution_count": 26,
   "metadata": {},
   "outputs": [],
   "source": [
    "import pandas as pd\n",
    "import numpy as np"
   ]
  },
  {
   "cell_type": "code",
   "execution_count": 27,
   "metadata": {},
   "outputs": [
    {
     "data": {
      "text/html": [
       "<div>\n",
       "<style scoped>\n",
       "    .dataframe tbody tr th:only-of-type {\n",
       "        vertical-align: middle;\n",
       "    }\n",
       "\n",
       "    .dataframe tbody tr th {\n",
       "        vertical-align: top;\n",
       "    }\n",
       "\n",
       "    .dataframe thead th {\n",
       "        text-align: right;\n",
       "    }\n",
       "</style>\n",
       "<table border=\"1\" class=\"dataframe\">\n",
       "  <thead>\n",
       "    <tr style=\"text-align: right;\">\n",
       "      <th></th>\n",
       "      <th>Cement</th>\n",
       "      <th>Blast Furnace Slag</th>\n",
       "      <th>Fly Ash</th>\n",
       "      <th>Water</th>\n",
       "      <th>Superplasticizer</th>\n",
       "      <th>Coarse Aggregate</th>\n",
       "      <th>Fine Aggregate</th>\n",
       "      <th>Age</th>\n",
       "      <th>Strength</th>\n",
       "    </tr>\n",
       "  </thead>\n",
       "  <tbody>\n",
       "    <tr>\n",
       "      <th>0</th>\n",
       "      <td>540.0</td>\n",
       "      <td>0.0</td>\n",
       "      <td>0.0</td>\n",
       "      <td>162.0</td>\n",
       "      <td>2.5</td>\n",
       "      <td>1040.0</td>\n",
       "      <td>676.0</td>\n",
       "      <td>28</td>\n",
       "      <td>79.99</td>\n",
       "    </tr>\n",
       "    <tr>\n",
       "      <th>1</th>\n",
       "      <td>540.0</td>\n",
       "      <td>0.0</td>\n",
       "      <td>0.0</td>\n",
       "      <td>162.0</td>\n",
       "      <td>2.5</td>\n",
       "      <td>1055.0</td>\n",
       "      <td>676.0</td>\n",
       "      <td>28</td>\n",
       "      <td>61.89</td>\n",
       "    </tr>\n",
       "    <tr>\n",
       "      <th>2</th>\n",
       "      <td>332.5</td>\n",
       "      <td>142.5</td>\n",
       "      <td>0.0</td>\n",
       "      <td>228.0</td>\n",
       "      <td>0.0</td>\n",
       "      <td>932.0</td>\n",
       "      <td>594.0</td>\n",
       "      <td>270</td>\n",
       "      <td>40.27</td>\n",
       "    </tr>\n",
       "    <tr>\n",
       "      <th>3</th>\n",
       "      <td>332.5</td>\n",
       "      <td>142.5</td>\n",
       "      <td>0.0</td>\n",
       "      <td>228.0</td>\n",
       "      <td>0.0</td>\n",
       "      <td>932.0</td>\n",
       "      <td>594.0</td>\n",
       "      <td>365</td>\n",
       "      <td>41.05</td>\n",
       "    </tr>\n",
       "    <tr>\n",
       "      <th>4</th>\n",
       "      <td>198.6</td>\n",
       "      <td>132.4</td>\n",
       "      <td>0.0</td>\n",
       "      <td>192.0</td>\n",
       "      <td>0.0</td>\n",
       "      <td>978.4</td>\n",
       "      <td>825.5</td>\n",
       "      <td>360</td>\n",
       "      <td>44.30</td>\n",
       "    </tr>\n",
       "  </tbody>\n",
       "</table>\n",
       "</div>"
      ],
      "text/plain": [
       "   Cement  Blast Furnace Slag  Fly Ash  Water  Superplasticizer  \\\n",
       "0   540.0                 0.0      0.0  162.0               2.5   \n",
       "1   540.0                 0.0      0.0  162.0               2.5   \n",
       "2   332.5               142.5      0.0  228.0               0.0   \n",
       "3   332.5               142.5      0.0  228.0               0.0   \n",
       "4   198.6               132.4      0.0  192.0               0.0   \n",
       "\n",
       "   Coarse Aggregate  Fine Aggregate  Age  Strength  \n",
       "0            1040.0           676.0   28     79.99  \n",
       "1            1055.0           676.0   28     61.89  \n",
       "2             932.0           594.0  270     40.27  \n",
       "3             932.0           594.0  365     41.05  \n",
       "4             978.4           825.5  360     44.30  "
      ]
     },
     "execution_count": 27,
     "metadata": {},
     "output_type": "execute_result"
    }
   ],
   "source": [
    "#import Dataset and creation of DataFrame\n",
    "concrete_data = pd.read_csv('concrete_data.csv')\n",
    "concrete_data.head()"
   ]
  },
  {
   "cell_type": "code",
   "execution_count": 4,
   "metadata": {},
   "outputs": [
    {
     "data": {
      "text/plain": [
       "(1030, 9)"
      ]
     },
     "execution_count": 4,
     "metadata": {},
     "output_type": "execute_result"
    }
   ],
   "source": [
    "concrete_data.shape"
   ]
  },
  {
   "cell_type": "code",
   "execution_count": 5,
   "metadata": {},
   "outputs": [
    {
     "data": {
      "text/plain": [
       "<bound method NDFrame.describe of       Cement  Blast Furnace Slag  Fly Ash  Water  Superplasticizer  \\\n",
       "0      540.0                 0.0      0.0  162.0               2.5   \n",
       "1      540.0                 0.0      0.0  162.0               2.5   \n",
       "2      332.5               142.5      0.0  228.0               0.0   \n",
       "3      332.5               142.5      0.0  228.0               0.0   \n",
       "4      198.6               132.4      0.0  192.0               0.0   \n",
       "...      ...                 ...      ...    ...               ...   \n",
       "1025   276.4               116.0     90.3  179.6               8.9   \n",
       "1026   322.2                 0.0    115.6  196.0              10.4   \n",
       "1027   148.5               139.4    108.6  192.7               6.1   \n",
       "1028   159.1               186.7      0.0  175.6              11.3   \n",
       "1029   260.9               100.5     78.3  200.6               8.6   \n",
       "\n",
       "      Coarse Aggregate  Fine Aggregate  Age  Strength  \n",
       "0               1040.0           676.0   28     79.99  \n",
       "1               1055.0           676.0   28     61.89  \n",
       "2                932.0           594.0  270     40.27  \n",
       "3                932.0           594.0  365     41.05  \n",
       "4                978.4           825.5  360     44.30  \n",
       "...                ...             ...  ...       ...  \n",
       "1025             870.1           768.3   28     44.28  \n",
       "1026             817.9           813.4   28     31.18  \n",
       "1027             892.4           780.0   28     23.70  \n",
       "1028             989.6           788.9   28     32.77  \n",
       "1029             864.5           761.5   28     32.40  \n",
       "\n",
       "[1030 rows x 9 columns]>"
      ]
     },
     "execution_count": 5,
     "metadata": {},
     "output_type": "execute_result"
    }
   ],
   "source": [
    "concrete_data.describe"
   ]
  },
  {
   "cell_type": "code",
   "execution_count": 28,
   "metadata": {},
   "outputs": [
    {
     "data": {
      "text/plain": [
       "Cement                0\n",
       "Blast Furnace Slag    0\n",
       "Fly Ash               0\n",
       "Water                 0\n",
       "Superplasticizer      0\n",
       "Coarse Aggregate      0\n",
       "Fine Aggregate        0\n",
       "Age                   0\n",
       "Strength              0\n",
       "dtype: int64"
      ]
     },
     "execution_count": 28,
     "metadata": {},
     "output_type": "execute_result"
    }
   ],
   "source": [
    "#Checking if the Data is Clean \n",
    "concrete_data.isnull().sum()"
   ]
  },
  {
   "cell_type": "code",
   "execution_count": 29,
   "metadata": {},
   "outputs": [],
   "source": [
    "# Seperating Target and Predictors\n",
    "\n",
    "concrete_data_columns = concrete_data.columns\n",
    "predictors = concrete_data[concrete_data_columns[concrete_data_columns != 'Strength']] # all columns except Strength\n",
    "target = concrete_data['Strength'] # Strength column\n"
   ]
  },
  {
   "cell_type": "code",
   "execution_count": 30,
   "metadata": {},
   "outputs": [
    {
     "data": {
      "text/html": [
       "<div>\n",
       "<style scoped>\n",
       "    .dataframe tbody tr th:only-of-type {\n",
       "        vertical-align: middle;\n",
       "    }\n",
       "\n",
       "    .dataframe tbody tr th {\n",
       "        vertical-align: top;\n",
       "    }\n",
       "\n",
       "    .dataframe thead th {\n",
       "        text-align: right;\n",
       "    }\n",
       "</style>\n",
       "<table border=\"1\" class=\"dataframe\">\n",
       "  <thead>\n",
       "    <tr style=\"text-align: right;\">\n",
       "      <th></th>\n",
       "      <th>Cement</th>\n",
       "      <th>Blast Furnace Slag</th>\n",
       "      <th>Fly Ash</th>\n",
       "      <th>Water</th>\n",
       "      <th>Superplasticizer</th>\n",
       "      <th>Coarse Aggregate</th>\n",
       "      <th>Fine Aggregate</th>\n",
       "      <th>Age</th>\n",
       "    </tr>\n",
       "  </thead>\n",
       "  <tbody>\n",
       "    <tr>\n",
       "      <th>0</th>\n",
       "      <td>540.0</td>\n",
       "      <td>0.0</td>\n",
       "      <td>0.0</td>\n",
       "      <td>162.0</td>\n",
       "      <td>2.5</td>\n",
       "      <td>1040.0</td>\n",
       "      <td>676.0</td>\n",
       "      <td>28</td>\n",
       "    </tr>\n",
       "    <tr>\n",
       "      <th>1</th>\n",
       "      <td>540.0</td>\n",
       "      <td>0.0</td>\n",
       "      <td>0.0</td>\n",
       "      <td>162.0</td>\n",
       "      <td>2.5</td>\n",
       "      <td>1055.0</td>\n",
       "      <td>676.0</td>\n",
       "      <td>28</td>\n",
       "    </tr>\n",
       "    <tr>\n",
       "      <th>2</th>\n",
       "      <td>332.5</td>\n",
       "      <td>142.5</td>\n",
       "      <td>0.0</td>\n",
       "      <td>228.0</td>\n",
       "      <td>0.0</td>\n",
       "      <td>932.0</td>\n",
       "      <td>594.0</td>\n",
       "      <td>270</td>\n",
       "    </tr>\n",
       "    <tr>\n",
       "      <th>3</th>\n",
       "      <td>332.5</td>\n",
       "      <td>142.5</td>\n",
       "      <td>0.0</td>\n",
       "      <td>228.0</td>\n",
       "      <td>0.0</td>\n",
       "      <td>932.0</td>\n",
       "      <td>594.0</td>\n",
       "      <td>365</td>\n",
       "    </tr>\n",
       "    <tr>\n",
       "      <th>4</th>\n",
       "      <td>198.6</td>\n",
       "      <td>132.4</td>\n",
       "      <td>0.0</td>\n",
       "      <td>192.0</td>\n",
       "      <td>0.0</td>\n",
       "      <td>978.4</td>\n",
       "      <td>825.5</td>\n",
       "      <td>360</td>\n",
       "    </tr>\n",
       "  </tbody>\n",
       "</table>\n",
       "</div>"
      ],
      "text/plain": [
       "   Cement  Blast Furnace Slag  Fly Ash  Water  Superplasticizer  \\\n",
       "0   540.0                 0.0      0.0  162.0               2.5   \n",
       "1   540.0                 0.0      0.0  162.0               2.5   \n",
       "2   332.5               142.5      0.0  228.0               0.0   \n",
       "3   332.5               142.5      0.0  228.0               0.0   \n",
       "4   198.6               132.4      0.0  192.0               0.0   \n",
       "\n",
       "   Coarse Aggregate  Fine Aggregate  Age  \n",
       "0            1040.0           676.0   28  \n",
       "1            1055.0           676.0   28  \n",
       "2             932.0           594.0  270  \n",
       "3             932.0           594.0  365  \n",
       "4             978.4           825.5  360  "
      ]
     },
     "execution_count": 30,
     "metadata": {},
     "output_type": "execute_result"
    }
   ],
   "source": [
    "predictors.head()"
   ]
  },
  {
   "cell_type": "code",
   "execution_count": 49,
   "metadata": {},
   "outputs": [
    {
     "data": {
      "text/html": [
       "<div>\n",
       "<style scoped>\n",
       "    .dataframe tbody tr th:only-of-type {\n",
       "        vertical-align: middle;\n",
       "    }\n",
       "\n",
       "    .dataframe tbody tr th {\n",
       "        vertical-align: top;\n",
       "    }\n",
       "\n",
       "    .dataframe thead th {\n",
       "        text-align: right;\n",
       "    }\n",
       "</style>\n",
       "<table border=\"1\" class=\"dataframe\">\n",
       "  <thead>\n",
       "    <tr style=\"text-align: right;\">\n",
       "      <th></th>\n",
       "      <th>Cement</th>\n",
       "      <th>Blast Furnace Slag</th>\n",
       "      <th>Fly Ash</th>\n",
       "      <th>Water</th>\n",
       "      <th>Superplasticizer</th>\n",
       "      <th>Coarse Aggregate</th>\n",
       "      <th>Fine Aggregate</th>\n",
       "      <th>Age</th>\n",
       "    </tr>\n",
       "  </thead>\n",
       "  <tbody>\n",
       "    <tr>\n",
       "      <th>0</th>\n",
       "      <td>2.476712</td>\n",
       "      <td>-0.856472</td>\n",
       "      <td>-0.846733</td>\n",
       "      <td>-0.916319</td>\n",
       "      <td>-0.620147</td>\n",
       "      <td>0.862735</td>\n",
       "      <td>-1.217079</td>\n",
       "      <td>-0.279597</td>\n",
       "    </tr>\n",
       "    <tr>\n",
       "      <th>1</th>\n",
       "      <td>2.476712</td>\n",
       "      <td>-0.856472</td>\n",
       "      <td>-0.846733</td>\n",
       "      <td>-0.916319</td>\n",
       "      <td>-0.620147</td>\n",
       "      <td>1.055651</td>\n",
       "      <td>-1.217079</td>\n",
       "      <td>-0.279597</td>\n",
       "    </tr>\n",
       "    <tr>\n",
       "      <th>2</th>\n",
       "      <td>0.491187</td>\n",
       "      <td>0.795140</td>\n",
       "      <td>-0.846733</td>\n",
       "      <td>2.174405</td>\n",
       "      <td>-1.038638</td>\n",
       "      <td>-0.526262</td>\n",
       "      <td>-2.239829</td>\n",
       "      <td>3.551340</td>\n",
       "    </tr>\n",
       "    <tr>\n",
       "      <th>3</th>\n",
       "      <td>0.491187</td>\n",
       "      <td>0.795140</td>\n",
       "      <td>-0.846733</td>\n",
       "      <td>2.174405</td>\n",
       "      <td>-1.038638</td>\n",
       "      <td>-0.526262</td>\n",
       "      <td>-2.239829</td>\n",
       "      <td>5.055221</td>\n",
       "    </tr>\n",
       "    <tr>\n",
       "      <th>4</th>\n",
       "      <td>-0.790075</td>\n",
       "      <td>0.678079</td>\n",
       "      <td>-0.846733</td>\n",
       "      <td>0.488555</td>\n",
       "      <td>-1.038638</td>\n",
       "      <td>0.070492</td>\n",
       "      <td>0.647569</td>\n",
       "      <td>4.976069</td>\n",
       "    </tr>\n",
       "  </tbody>\n",
       "</table>\n",
       "</div>"
      ],
      "text/plain": [
       "     Cement  Blast Furnace Slag   Fly Ash     Water  Superplasticizer  \\\n",
       "0  2.476712           -0.856472 -0.846733 -0.916319         -0.620147   \n",
       "1  2.476712           -0.856472 -0.846733 -0.916319         -0.620147   \n",
       "2  0.491187            0.795140 -0.846733  2.174405         -1.038638   \n",
       "3  0.491187            0.795140 -0.846733  2.174405         -1.038638   \n",
       "4 -0.790075            0.678079 -0.846733  0.488555         -1.038638   \n",
       "\n",
       "   Coarse Aggregate  Fine Aggregate       Age  \n",
       "0          0.862735       -1.217079 -0.279597  \n",
       "1          1.055651       -1.217079 -0.279597  \n",
       "2         -0.526262       -2.239829  3.551340  \n",
       "3         -0.526262       -2.239829  5.055221  \n",
       "4          0.070492        0.647569  4.976069  "
      ]
     },
     "execution_count": 49,
     "metadata": {},
     "output_type": "execute_result"
    }
   ],
   "source": [
    "target.head()\n",
    "predictors_norm = (predictors - predictors.mean()) / predictors.std()\n",
    "predictors_norm.head()"
   ]
  },
  {
   "cell_type": "code",
   "execution_count": 50,
   "metadata": {},
   "outputs": [
    {
     "data": {
      "text/plain": [
       "8"
      ]
     },
     "execution_count": 50,
     "metadata": {},
     "output_type": "execute_result"
    }
   ],
   "source": [
    "n_cols = predictors_norm.shape[1] # number of predictors\n",
    "n_cols\n"
   ]
  },
  {
   "cell_type": "markdown",
   "metadata": {},
   "source": [
    "# Import Keras"
   ]
  },
  {
   "cell_type": "code",
   "execution_count": 33,
   "metadata": {},
   "outputs": [],
   "source": [
    "import keras"
   ]
  },
  {
   "cell_type": "code",
   "execution_count": 34,
   "metadata": {},
   "outputs": [],
   "source": [
    "from keras.models import Sequential\n",
    "from keras.layers import Dense"
   ]
  },
  {
   "cell_type": "code",
   "execution_count": 60,
   "metadata": {},
   "outputs": [],
   "source": [
    "# define regression model\n",
    "def regression_model():\n",
    "    # create model\n",
    "    model = Sequential()\n",
    "    model.add(Dense(10, activation='relu', input_shape=(n_cols,)))\n",
    "    model.add(Dense(10, activation='relu'))\n",
    "    model.add(Dense(10, activation='relu'))\n",
    "    model.add(Dense(1))\n",
    "    \n",
    "    # compile model\n",
    "    model.compile(optimizer='adam', loss='mean_squared_error')\n",
    "    return model"
   ]
  },
  {
   "cell_type": "code",
   "execution_count": 36,
   "metadata": {},
   "outputs": [],
   "source": [
    "\n",
    "from sklearn.model_selection import train_test_split"
   ]
  },
  {
   "cell_type": "code",
   "execution_count": 67,
   "metadata": {},
   "outputs": [],
   "source": [
    "X_train, X_test, y_train, y_test = train_test_split(predictors, target, test_size=0.3, random_state=42)"
   ]
  },
  {
   "cell_type": "markdown",
   "metadata": {},
   "source": [
    "# Train and Test the Network¶\n",
    "###### Let's call the function now to create our model."
   ]
  },
  {
   "cell_type": "code",
   "execution_count": 68,
   "metadata": {},
   "outputs": [],
   "source": [
    "# build the model\n",
    "model = regression_model()"
   ]
  },
  {
   "cell_type": "code",
   "execution_count": 110,
   "metadata": {},
   "outputs": [
    {
     "name": "stdout",
     "output_type": "stream",
     "text": [
      "Epoch 1/100\n",
      "721/721 [==============================] - 0s 158us/step - loss: 23.7959\n",
      "Epoch 2/100\n",
      "721/721 [==============================] - 0s 144us/step - loss: 24.5338\n",
      "Epoch 3/100\n",
      "721/721 [==============================] - 0s 167us/step - loss: 22.2987\n",
      "Epoch 4/100\n",
      "721/721 [==============================] - 0s 101us/step - loss: 22.3888\n",
      "Epoch 5/100\n",
      "721/721 [==============================] - 0s 115us/step - loss: 22.7959\n",
      "Epoch 6/100\n",
      "721/721 [==============================] - 0s 114us/step - loss: 21.7952\n",
      "Epoch 7/100\n",
      "721/721 [==============================] - 0s 75us/step - loss: 22.0376\n",
      "Epoch 8/100\n",
      "721/721 [==============================] - 0s 88us/step - loss: 21.5466\n",
      "Epoch 9/100\n",
      "721/721 [==============================] - 0s 90us/step - loss: 22.9348\n",
      "Epoch 10/100\n",
      "721/721 [==============================] - 0s 90us/step - loss: 21.2641\n",
      "Epoch 11/100\n",
      "721/721 [==============================] - 0s 102us/step - loss: 22.2413\n",
      "Epoch 12/100\n",
      "721/721 [==============================] - 0s 163us/step - loss: 21.6153\n",
      "Epoch 13/100\n",
      "721/721 [==============================] - 0s 108us/step - loss: 21.6677\n",
      "Epoch 14/100\n",
      "721/721 [==============================] - 0s 78us/step - loss: 22.4846\n",
      "Epoch 15/100\n",
      "721/721 [==============================] - 0s 74us/step - loss: 23.3691\n",
      "Epoch 16/100\n",
      "721/721 [==============================] - 0s 71us/step - loss: 21.4151\n",
      "Epoch 17/100\n",
      "721/721 [==============================] - 0s 94us/step - loss: 23.8575\n",
      "Epoch 18/100\n",
      "721/721 [==============================] - 0s 84us/step - loss: 22.8103\n",
      "Epoch 19/100\n",
      "721/721 [==============================] - 0s 98us/step - loss: 22.4867\n",
      "Epoch 20/100\n",
      "721/721 [==============================] - 0s 87us/step - loss: 22.2616\n",
      "Epoch 21/100\n",
      "721/721 [==============================] - 0s 82us/step - loss: 21.6509\n",
      "Epoch 22/100\n",
      "721/721 [==============================] - 0s 68us/step - loss: 21.7702\n",
      "Epoch 23/100\n",
      "721/721 [==============================] - 0s 81us/step - loss: 21.9344\n",
      "Epoch 24/100\n",
      "721/721 [==============================] - 0s 70us/step - loss: 21.5442\n",
      "Epoch 25/100\n",
      "721/721 [==============================] - 0s 68us/step - loss: 21.9488\n",
      "Epoch 26/100\n",
      "721/721 [==============================] - 0s 72us/step - loss: 21.5652\n",
      "Epoch 27/100\n",
      "721/721 [==============================] - 0s 72us/step - loss: 21.9867\n",
      "Epoch 28/100\n",
      "721/721 [==============================] - 0s 71us/step - loss: 21.2730\n",
      "Epoch 29/100\n",
      "721/721 [==============================] - 0s 69us/step - loss: 21.5351\n",
      "Epoch 30/100\n",
      "721/721 [==============================] - 0s 72us/step - loss: 23.6023\n",
      "Epoch 31/100\n",
      "721/721 [==============================] - 0s 70us/step - loss: 22.1058\n",
      "Epoch 32/100\n",
      "721/721 [==============================] - 0s 69us/step - loss: 21.5412\n",
      "Epoch 33/100\n",
      "721/721 [==============================] - 0s 71us/step - loss: 22.9520\n",
      "Epoch 34/100\n",
      "721/721 [==============================] - 0s 69us/step - loss: 21.8668\n",
      "Epoch 35/100\n",
      "721/721 [==============================] - 0s 71us/step - loss: 21.4629\n",
      "Epoch 36/100\n",
      "721/721 [==============================] - 0s 67us/step - loss: 21.9345\n",
      "Epoch 37/100\n",
      "721/721 [==============================] - 0s 69us/step - loss: 23.4588\n",
      "Epoch 38/100\n",
      "721/721 [==============================] - 0s 77us/step - loss: 22.0914\n",
      "Epoch 39/100\n",
      "721/721 [==============================] - 0s 92us/step - loss: 22.0276\n",
      "Epoch 40/100\n",
      "721/721 [==============================] - 0s 73us/step - loss: 22.7093\n",
      "Epoch 41/100\n",
      "721/721 [==============================] - 0s 69us/step - loss: 26.2058\n",
      "Epoch 42/100\n",
      "721/721 [==============================] - 0s 70us/step - loss: 21.4765\n",
      "Epoch 43/100\n",
      "721/721 [==============================] - 0s 70us/step - loss: 21.8890\n",
      "Epoch 44/100\n",
      "721/721 [==============================] - 0s 71us/step - loss: 21.8575\n",
      "Epoch 45/100\n",
      "721/721 [==============================] - 0s 84us/step - loss: 21.8822\n",
      "Epoch 46/100\n",
      "721/721 [==============================] - 0s 73us/step - loss: 22.4612\n",
      "Epoch 47/100\n",
      "721/721 [==============================] - 0s 86us/step - loss: 21.3973\n",
      "Epoch 48/100\n",
      "721/721 [==============================] - 0s 106us/step - loss: 21.1717\n",
      "Epoch 49/100\n",
      "721/721 [==============================] - 0s 100us/step - loss: 22.2007\n",
      "Epoch 50/100\n",
      "721/721 [==============================] - 0s 74us/step - loss: 23.1638\n",
      "Epoch 51/100\n",
      "721/721 [==============================] - 0s 74us/step - loss: 22.4432\n",
      "Epoch 52/100\n",
      "721/721 [==============================] - 0s 131us/step - loss: 23.1297\n",
      "Epoch 53/100\n",
      "721/721 [==============================] - 0s 104us/step - loss: 23.0367\n",
      "Epoch 54/100\n",
      "721/721 [==============================] - 0s 101us/step - loss: 22.5861\n",
      "Epoch 55/100\n",
      "721/721 [==============================] - 0s 125us/step - loss: 21.4239\n",
      "Epoch 56/100\n",
      "721/721 [==============================] - 0s 88us/step - loss: 21.6608\n",
      "Epoch 57/100\n",
      "721/721 [==============================] - 0s 104us/step - loss: 22.6541\n",
      "Epoch 58/100\n",
      "721/721 [==============================] - 0s 88us/step - loss: 22.2283\n",
      "Epoch 59/100\n",
      "721/721 [==============================] - 0s 81us/step - loss: 22.1757\n",
      "Epoch 60/100\n",
      "721/721 [==============================] - 0s 74us/step - loss: 22.0017\n",
      "Epoch 61/100\n",
      "721/721 [==============================] - 0s 71us/step - loss: 21.3212\n",
      "Epoch 62/100\n",
      "721/721 [==============================] - 0s 74us/step - loss: 22.8655\n",
      "Epoch 63/100\n",
      "721/721 [==============================] - 0s 88us/step - loss: 22.0081\n",
      "Epoch 64/100\n",
      "721/721 [==============================] - 0s 121us/step - loss: 23.5866\n",
      "Epoch 65/100\n",
      "721/721 [==============================] - 0s 100us/step - loss: 22.9757\n",
      "Epoch 66/100\n",
      "721/721 [==============================] - 0s 74us/step - loss: 23.7003\n",
      "Epoch 67/100\n",
      "721/721 [==============================] - 0s 85us/step - loss: 22.4453\n",
      "Epoch 68/100\n",
      "721/721 [==============================] - 0s 108us/step - loss: 22.1149\n",
      "Epoch 69/100\n",
      "721/721 [==============================] - 0s 81us/step - loss: 21.9424\n",
      "Epoch 70/100\n",
      "721/721 [==============================] - 0s 83us/step - loss: 21.9059\n",
      "Epoch 71/100\n",
      "721/721 [==============================] - 0s 70us/step - loss: 26.1223\n",
      "Epoch 72/100\n",
      "721/721 [==============================] - 0s 71us/step - loss: 23.3424\n",
      "Epoch 73/100\n",
      "721/721 [==============================] - 0s 85us/step - loss: 26.3663\n",
      "Epoch 74/100\n",
      "721/721 [==============================] - 0s 71us/step - loss: 23.3649\n",
      "Epoch 75/100\n",
      "721/721 [==============================] - 0s 135us/step - loss: 22.5151\n",
      "Epoch 76/100\n",
      "721/721 [==============================] - 0s 79us/step - loss: 21.5220\n",
      "Epoch 77/100\n",
      "721/721 [==============================] - 0s 67us/step - loss: 21.8089\n",
      "Epoch 78/100\n",
      "721/721 [==============================] - 0s 70us/step - loss: 21.6291\n",
      "Epoch 79/100\n",
      "721/721 [==============================] - 0s 80us/step - loss: 22.9371\n",
      "Epoch 80/100\n",
      "721/721 [==============================] - 0s 71us/step - loss: 21.5402\n",
      "Epoch 81/100\n",
      "721/721 [==============================] - 0s 76us/step - loss: 21.9028\n",
      "Epoch 82/100\n",
      "721/721 [==============================] - 0s 128us/step - loss: 21.0803\n",
      "Epoch 83/100\n",
      "721/721 [==============================] - 0s 71us/step - loss: 21.7467\n",
      "Epoch 84/100\n",
      "721/721 [==============================] - 0s 82us/step - loss: 21.7717\n",
      "Epoch 85/100\n",
      "721/721 [==============================] - 0s 71us/step - loss: 22.5600\n",
      "Epoch 86/100\n",
      "721/721 [==============================] - 0s 82us/step - loss: 22.0990\n",
      "Epoch 87/100\n",
      "721/721 [==============================] - 0s 71us/step - loss: 23.0729\n",
      "Epoch 88/100\n",
      "721/721 [==============================] - 0s 96us/step - loss: 22.4015\n",
      "Epoch 89/100\n",
      "721/721 [==============================] - 0s 90us/step - loss: 22.1741\n",
      "Epoch 90/100\n",
      "721/721 [==============================] - 0s 82us/step - loss: 21.3612\n",
      "Epoch 91/100\n",
      "721/721 [==============================] - 0s 90us/step - loss: 21.4823\n",
      "Epoch 92/100\n",
      "721/721 [==============================] - 0s 93us/step - loss: 21.2843\n",
      "Epoch 93/100\n",
      "721/721 [==============================] - 0s 84us/step - loss: 21.2170\n",
      "Epoch 94/100\n",
      "721/721 [==============================] - 0s 113us/step - loss: 21.5837\n",
      "Epoch 95/100\n",
      "721/721 [==============================] - 0s 102us/step - loss: 21.1413\n",
      "Epoch 96/100\n",
      "721/721 [==============================] - 0s 134us/step - loss: 22.8248\n",
      "Epoch 97/100\n",
      "721/721 [==============================] - 0s 68us/step - loss: 22.1591\n",
      "Epoch 98/100\n",
      "721/721 [==============================] - 0s 70us/step - loss: 23.6238\n",
      "Epoch 99/100\n",
      "721/721 [==============================] - 0s 73us/step - loss: 22.1724\n",
      "Epoch 100/100\n",
      "721/721 [==============================] - 0s 96us/step - loss: 21.4685\n",
      "309/309 [==============================] - 0s 35us/step\n"
     ]
    },
    {
     "data": {
      "text/plain": [
       "31.928949843718396"
      ]
     },
     "execution_count": 110,
     "metadata": {},
     "output_type": "execute_result"
    }
   ],
   "source": [
    "# fit the model\n",
    "epochs = 100\n",
    "model.fit(X_train, y_train, epochs=epochs, verbose=1)\n",
    "loss_val = model.evaluate(X_test, y_test)\n",
    "y_pred = model.predict(X_test)\n",
    "loss_val"
   ]
  },
  {
   "cell_type": "markdown",
   "metadata": {},
   "source": [
    "#### Next we need to evaluate the model on the test data."
   ]
  },
  {
   "cell_type": "code",
   "execution_count": 111,
   "metadata": {},
   "outputs": [
    {
     "name": "stdout",
     "output_type": "stream",
     "text": [
      "309/309 [==============================] - 0s 138us/step\n"
     ]
    },
    {
     "data": {
      "text/plain": [
       "31.928949843718396"
      ]
     },
     "execution_count": 111,
     "metadata": {},
     "output_type": "execute_result"
    }
   ],
   "source": [
    "loss_val = model.evaluate(X_test, y_test)\n",
    "y_pred = model.predict(X_test)\n",
    "loss_val"
   ]
  },
  {
   "cell_type": "markdown",
   "metadata": {},
   "source": [
    "## Now we need to compute the mean squared error between the predicted concrete strength and the actual concrete strength.\n",
    "\n",
    "#### Let's import the mean_squared_error function from Scikit-learn."
   ]
  },
  {
   "cell_type": "code",
   "execution_count": 112,
   "metadata": {},
   "outputs": [],
   "source": [
    "from sklearn.metrics import mean_squared_error"
   ]
  },
  {
   "cell_type": "code",
   "execution_count": 113,
   "metadata": {},
   "outputs": [
    {
     "name": "stdout",
     "output_type": "stream",
     "text": [
      "31.928950932224556 0.0\n"
     ]
    }
   ],
   "source": [
    "mean_square_error = mean_squared_error(y_test, y_pred)\n",
    "mean = np.mean(mean_square_error)\n",
    "standard_deviation = np.std(mean_square_error)\n",
    "print(mean, standard_deviation)"
   ]
  },
  {
   "cell_type": "markdown",
   "metadata": {},
   "source": [
    "### Create a list of 50 mean squared errors and report mean and the standard deviation of the mean squared errors."
   ]
  },
  {
   "cell_type": "code",
   "execution_count": 114,
   "metadata": {},
   "outputs": [
    {
     "name": "stdout",
     "output_type": "stream",
     "text": [
      "MSE 1: 26.79896126287269\n",
      "MSE 2: 28.33175094382277\n",
      "MSE 3: 25.313824218453714\n",
      "MSE 4: 28.578755320082976\n",
      "MSE 5: 25.551693505839623\n",
      "MSE 6: 26.79244718582499\n",
      "MSE 7: 30.21355744395827\n",
      "MSE 8: 24.61530680486685\n",
      "MSE 9: 24.439836495902547\n",
      "MSE 10: 24.084306186071107\n",
      "MSE 11: 25.079068779559584\n",
      "MSE 12: 23.231024239055547\n",
      "MSE 13: 30.916811686889254\n",
      "MSE 14: 28.215218417467035\n",
      "MSE 15: 25.971453891988713\n",
      "MSE 16: 21.564857316248624\n",
      "MSE 17: 25.723465311488674\n",
      "MSE 18: 28.39559758751138\n",
      "MSE 19: 22.399251774291006\n",
      "MSE 20: 26.022549910066967\n",
      "MSE 21: 26.13605131994945\n",
      "MSE 22: 24.276224080798695\n",
      "MSE 23: 22.569458557178287\n",
      "MSE 24: 26.163148318293796\n",
      "MSE 25: 26.443415475123135\n",
      "MSE 26: 26.873622548618748\n",
      "MSE 27: 19.55998685521987\n",
      "MSE 28: 23.2654498140403\n",
      "MSE 29: 31.417360318131433\n",
      "MSE 30: 28.702344878977556\n",
      "MSE 31: 25.03374656504412\n",
      "MSE 32: 20.591066199984752\n",
      "MSE 33: 20.393518558983665\n",
      "MSE 34: 28.06449501259813\n",
      "MSE 35: 30.099473922383822\n",
      "MSE 36: 26.107176703542567\n",
      "MSE 37: 22.521790448901722\n",
      "MSE 38: 25.998251202037032\n",
      "MSE 39: 24.016343144537174\n",
      "MSE 40: 21.363119520415765\n",
      "MSE 41: 27.004444930931513\n",
      "MSE 42: 24.172093295742393\n",
      "MSE 43: 25.61356091730803\n",
      "MSE 44: 28.290808804212652\n",
      "MSE 45: 30.921845951512406\n",
      "MSE 46: 26.763169822569417\n",
      "MSE 47: 24.45022158329541\n",
      "MSE 48: 25.092087156178497\n",
      "MSE 49: 31.51203324648169\n",
      "MSE 50: 25.690230817084945\n",
      "\n",
      "\n",
      "Below is the mean and standard deviation of 50 mean squared errors without normalized data. Total number of epochs for each training is: 100\n",
      "\n",
      "Mean: 25.8269255776174\n",
      "Standard Deviation: 2.8432180860405647\n"
     ]
    }
   ],
   "source": [
    "total_mean_squared_errors = 50\n",
    "epochs = 100\n",
    "mean_squared_errors = []\n",
    "for i in range(0, total_mean_squared_errors):\n",
    "    X_train, X_test, y_train, y_test = train_test_split(predictors, target, test_size=0.3, random_state=i)\n",
    "    model.fit(X_train, y_train, epochs=epochs, verbose=0)\n",
    "    MSE = model.evaluate(X_test, y_test, verbose=0)\n",
    "    print(\"MSE \"+str(i+1)+\": \"+str(MSE))\n",
    "    y_pred = model.predict(X_test)\n",
    "    mean_square_error = mean_squared_error(y_test, y_pred)\n",
    "    mean_squared_errors.append(mean_square_error)\n",
    "\n",
    "mean_squared_errors = np.array(mean_squared_errors)\n",
    "mean = np.mean(mean_squared_errors)\n",
    "standard_deviation = np.std(mean_squared_errors)\n",
    "\n",
    "print('\\n')\n",
    "print(\"Below is the mean and standard deviation of \" +str(total_mean_squared_errors) + \" mean squared errors without normalized data. Total number of epochs for each training is: \" +str(epochs) + \"\\n\")\n",
    "print(\"Mean: \"+str(mean))\n",
    "print(\"Standard Deviation: \"+str(standard_deviation))"
   ]
  },
  {
   "cell_type": "code",
   "execution_count": null,
   "metadata": {},
   "outputs": [],
   "source": []
  }
 ],
 "metadata": {
  "kernelspec": {
   "display_name": "Python",
   "language": "python",
   "name": "conda-env-python-py"
  },
  "language_info": {
   "codemirror_mode": {
    "name": "ipython",
    "version": 3
   },
   "file_extension": ".py",
   "mimetype": "text/x-python",
   "name": "python",
   "nbconvert_exporter": "python",
   "pygments_lexer": "ipython3",
   "version": "3.6.7"
  }
 },
 "nbformat": 4,
 "nbformat_minor": 4
}
