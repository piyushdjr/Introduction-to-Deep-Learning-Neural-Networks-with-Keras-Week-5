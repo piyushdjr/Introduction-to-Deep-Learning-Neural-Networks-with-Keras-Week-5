{
 "cells": [
  {
   "cell_type": "markdown",
   "metadata": {},
   "source": [
    "## Download and Clean Dataset\n",
    "#### Let's start by importing the pandas and the Numpy libraries."
   ]
  },
  {
   "cell_type": "code",
   "execution_count": 26,
   "metadata": {},
   "outputs": [],
   "source": [
    "import pandas as pd\n",
    "import numpy as np"
   ]
  },
  {
   "cell_type": "code",
   "execution_count": 27,
   "metadata": {},
   "outputs": [
    {
     "data": {
      "text/html": [
       "<div>\n",
       "<style scoped>\n",
       "    .dataframe tbody tr th:only-of-type {\n",
       "        vertical-align: middle;\n",
       "    }\n",
       "\n",
       "    .dataframe tbody tr th {\n",
       "        vertical-align: top;\n",
       "    }\n",
       "\n",
       "    .dataframe thead th {\n",
       "        text-align: right;\n",
       "    }\n",
       "</style>\n",
       "<table border=\"1\" class=\"dataframe\">\n",
       "  <thead>\n",
       "    <tr style=\"text-align: right;\">\n",
       "      <th></th>\n",
       "      <th>Cement</th>\n",
       "      <th>Blast Furnace Slag</th>\n",
       "      <th>Fly Ash</th>\n",
       "      <th>Water</th>\n",
       "      <th>Superplasticizer</th>\n",
       "      <th>Coarse Aggregate</th>\n",
       "      <th>Fine Aggregate</th>\n",
       "      <th>Age</th>\n",
       "      <th>Strength</th>\n",
       "    </tr>\n",
       "  </thead>\n",
       "  <tbody>\n",
       "    <tr>\n",
       "      <th>0</th>\n",
       "      <td>540.0</td>\n",
       "      <td>0.0</td>\n",
       "      <td>0.0</td>\n",
       "      <td>162.0</td>\n",
       "      <td>2.5</td>\n",
       "      <td>1040.0</td>\n",
       "      <td>676.0</td>\n",
       "      <td>28</td>\n",
       "      <td>79.99</td>\n",
       "    </tr>\n",
       "    <tr>\n",
       "      <th>1</th>\n",
       "      <td>540.0</td>\n",
       "      <td>0.0</td>\n",
       "      <td>0.0</td>\n",
       "      <td>162.0</td>\n",
       "      <td>2.5</td>\n",
       "      <td>1055.0</td>\n",
       "      <td>676.0</td>\n",
       "      <td>28</td>\n",
       "      <td>61.89</td>\n",
       "    </tr>\n",
       "    <tr>\n",
       "      <th>2</th>\n",
       "      <td>332.5</td>\n",
       "      <td>142.5</td>\n",
       "      <td>0.0</td>\n",
       "      <td>228.0</td>\n",
       "      <td>0.0</td>\n",
       "      <td>932.0</td>\n",
       "      <td>594.0</td>\n",
       "      <td>270</td>\n",
       "      <td>40.27</td>\n",
       "    </tr>\n",
       "    <tr>\n",
       "      <th>3</th>\n",
       "      <td>332.5</td>\n",
       "      <td>142.5</td>\n",
       "      <td>0.0</td>\n",
       "      <td>228.0</td>\n",
       "      <td>0.0</td>\n",
       "      <td>932.0</td>\n",
       "      <td>594.0</td>\n",
       "      <td>365</td>\n",
       "      <td>41.05</td>\n",
       "    </tr>\n",
       "    <tr>\n",
       "      <th>4</th>\n",
       "      <td>198.6</td>\n",
       "      <td>132.4</td>\n",
       "      <td>0.0</td>\n",
       "      <td>192.0</td>\n",
       "      <td>0.0</td>\n",
       "      <td>978.4</td>\n",
       "      <td>825.5</td>\n",
       "      <td>360</td>\n",
       "      <td>44.30</td>\n",
       "    </tr>\n",
       "  </tbody>\n",
       "</table>\n",
       "</div>"
      ],
      "text/plain": [
       "   Cement  Blast Furnace Slag  Fly Ash  Water  Superplasticizer  \\\n",
       "0   540.0                 0.0      0.0  162.0               2.5   \n",
       "1   540.0                 0.0      0.0  162.0               2.5   \n",
       "2   332.5               142.5      0.0  228.0               0.0   \n",
       "3   332.5               142.5      0.0  228.0               0.0   \n",
       "4   198.6               132.4      0.0  192.0               0.0   \n",
       "\n",
       "   Coarse Aggregate  Fine Aggregate  Age  Strength  \n",
       "0            1040.0           676.0   28     79.99  \n",
       "1            1055.0           676.0   28     61.89  \n",
       "2             932.0           594.0  270     40.27  \n",
       "3             932.0           594.0  365     41.05  \n",
       "4             978.4           825.5  360     44.30  "
      ]
     },
     "execution_count": 27,
     "metadata": {},
     "output_type": "execute_result"
    }
   ],
   "source": [
    "#import Dataset and creation of DataFrame\n",
    "concrete_data = pd.read_csv('concrete_data.csv')\n",
    "concrete_data.head()"
   ]
  },
  {
   "cell_type": "code",
   "execution_count": 4,
   "metadata": {},
   "outputs": [
    {
     "data": {
      "text/plain": [
       "(1030, 9)"
      ]
     },
     "execution_count": 4,
     "metadata": {},
     "output_type": "execute_result"
    }
   ],
   "source": [
    "concrete_data.shape"
   ]
  },
  {
   "cell_type": "code",
   "execution_count": 5,
   "metadata": {},
   "outputs": [
    {
     "data": {
      "text/plain": [
       "<bound method NDFrame.describe of       Cement  Blast Furnace Slag  Fly Ash  Water  Superplasticizer  \\\n",
       "0      540.0                 0.0      0.0  162.0               2.5   \n",
       "1      540.0                 0.0      0.0  162.0               2.5   \n",
       "2      332.5               142.5      0.0  228.0               0.0   \n",
       "3      332.5               142.5      0.0  228.0               0.0   \n",
       "4      198.6               132.4      0.0  192.0               0.0   \n",
       "...      ...                 ...      ...    ...               ...   \n",
       "1025   276.4               116.0     90.3  179.6               8.9   \n",
       "1026   322.2                 0.0    115.6  196.0              10.4   \n",
       "1027   148.5               139.4    108.6  192.7               6.1   \n",
       "1028   159.1               186.7      0.0  175.6              11.3   \n",
       "1029   260.9               100.5     78.3  200.6               8.6   \n",
       "\n",
       "      Coarse Aggregate  Fine Aggregate  Age  Strength  \n",
       "0               1040.0           676.0   28     79.99  \n",
       "1               1055.0           676.0   28     61.89  \n",
       "2                932.0           594.0  270     40.27  \n",
       "3                932.0           594.0  365     41.05  \n",
       "4                978.4           825.5  360     44.30  \n",
       "...                ...             ...  ...       ...  \n",
       "1025             870.1           768.3   28     44.28  \n",
       "1026             817.9           813.4   28     31.18  \n",
       "1027             892.4           780.0   28     23.70  \n",
       "1028             989.6           788.9   28     32.77  \n",
       "1029             864.5           761.5   28     32.40  \n",
       "\n",
       "[1030 rows x 9 columns]>"
      ]
     },
     "execution_count": 5,
     "metadata": {},
     "output_type": "execute_result"
    }
   ],
   "source": [
    "concrete_data.describe"
   ]
  },
  {
   "cell_type": "code",
   "execution_count": 28,
   "metadata": {},
   "outputs": [
    {
     "data": {
      "text/plain": [
       "Cement                0\n",
       "Blast Furnace Slag    0\n",
       "Fly Ash               0\n",
       "Water                 0\n",
       "Superplasticizer      0\n",
       "Coarse Aggregate      0\n",
       "Fine Aggregate        0\n",
       "Age                   0\n",
       "Strength              0\n",
       "dtype: int64"
      ]
     },
     "execution_count": 28,
     "metadata": {},
     "output_type": "execute_result"
    }
   ],
   "source": [
    "#Checking if the Data is Clean \n",
    "concrete_data.isnull().sum()"
   ]
  },
  {
   "cell_type": "code",
   "execution_count": 29,
   "metadata": {},
   "outputs": [],
   "source": [
    "# Seperating Target and Predictors\n",
    "\n",
    "concrete_data_columns = concrete_data.columns\n",
    "predictors = concrete_data[concrete_data_columns[concrete_data_columns != 'Strength']] # all columns except Strength\n",
    "target = concrete_data['Strength'] # Strength column\n"
   ]
  },
  {
   "cell_type": "code",
   "execution_count": 30,
   "metadata": {},
   "outputs": [
    {
     "data": {
      "text/html": [
       "<div>\n",
       "<style scoped>\n",
       "    .dataframe tbody tr th:only-of-type {\n",
       "        vertical-align: middle;\n",
       "    }\n",
       "\n",
       "    .dataframe tbody tr th {\n",
       "        vertical-align: top;\n",
       "    }\n",
       "\n",
       "    .dataframe thead th {\n",
       "        text-align: right;\n",
       "    }\n",
       "</style>\n",
       "<table border=\"1\" class=\"dataframe\">\n",
       "  <thead>\n",
       "    <tr style=\"text-align: right;\">\n",
       "      <th></th>\n",
       "      <th>Cement</th>\n",
       "      <th>Blast Furnace Slag</th>\n",
       "      <th>Fly Ash</th>\n",
       "      <th>Water</th>\n",
       "      <th>Superplasticizer</th>\n",
       "      <th>Coarse Aggregate</th>\n",
       "      <th>Fine Aggregate</th>\n",
       "      <th>Age</th>\n",
       "    </tr>\n",
       "  </thead>\n",
       "  <tbody>\n",
       "    <tr>\n",
       "      <th>0</th>\n",
       "      <td>540.0</td>\n",
       "      <td>0.0</td>\n",
       "      <td>0.0</td>\n",
       "      <td>162.0</td>\n",
       "      <td>2.5</td>\n",
       "      <td>1040.0</td>\n",
       "      <td>676.0</td>\n",
       "      <td>28</td>\n",
       "    </tr>\n",
       "    <tr>\n",
       "      <th>1</th>\n",
       "      <td>540.0</td>\n",
       "      <td>0.0</td>\n",
       "      <td>0.0</td>\n",
       "      <td>162.0</td>\n",
       "      <td>2.5</td>\n",
       "      <td>1055.0</td>\n",
       "      <td>676.0</td>\n",
       "      <td>28</td>\n",
       "    </tr>\n",
       "    <tr>\n",
       "      <th>2</th>\n",
       "      <td>332.5</td>\n",
       "      <td>142.5</td>\n",
       "      <td>0.0</td>\n",
       "      <td>228.0</td>\n",
       "      <td>0.0</td>\n",
       "      <td>932.0</td>\n",
       "      <td>594.0</td>\n",
       "      <td>270</td>\n",
       "    </tr>\n",
       "    <tr>\n",
       "      <th>3</th>\n",
       "      <td>332.5</td>\n",
       "      <td>142.5</td>\n",
       "      <td>0.0</td>\n",
       "      <td>228.0</td>\n",
       "      <td>0.0</td>\n",
       "      <td>932.0</td>\n",
       "      <td>594.0</td>\n",
       "      <td>365</td>\n",
       "    </tr>\n",
       "    <tr>\n",
       "      <th>4</th>\n",
       "      <td>198.6</td>\n",
       "      <td>132.4</td>\n",
       "      <td>0.0</td>\n",
       "      <td>192.0</td>\n",
       "      <td>0.0</td>\n",
       "      <td>978.4</td>\n",
       "      <td>825.5</td>\n",
       "      <td>360</td>\n",
       "    </tr>\n",
       "  </tbody>\n",
       "</table>\n",
       "</div>"
      ],
      "text/plain": [
       "   Cement  Blast Furnace Slag  Fly Ash  Water  Superplasticizer  \\\n",
       "0   540.0                 0.0      0.0  162.0               2.5   \n",
       "1   540.0                 0.0      0.0  162.0               2.5   \n",
       "2   332.5               142.5      0.0  228.0               0.0   \n",
       "3   332.5               142.5      0.0  228.0               0.0   \n",
       "4   198.6               132.4      0.0  192.0               0.0   \n",
       "\n",
       "   Coarse Aggregate  Fine Aggregate  Age  \n",
       "0            1040.0           676.0   28  \n",
       "1            1055.0           676.0   28  \n",
       "2             932.0           594.0  270  \n",
       "3             932.0           594.0  365  \n",
       "4             978.4           825.5  360  "
      ]
     },
     "execution_count": 30,
     "metadata": {},
     "output_type": "execute_result"
    }
   ],
   "source": [
    "predictors.head()"
   ]
  },
  {
   "cell_type": "code",
   "execution_count": 49,
   "metadata": {},
   "outputs": [
    {
     "data": {
      "text/html": [
       "<div>\n",
       "<style scoped>\n",
       "    .dataframe tbody tr th:only-of-type {\n",
       "        vertical-align: middle;\n",
       "    }\n",
       "\n",
       "    .dataframe tbody tr th {\n",
       "        vertical-align: top;\n",
       "    }\n",
       "\n",
       "    .dataframe thead th {\n",
       "        text-align: right;\n",
       "    }\n",
       "</style>\n",
       "<table border=\"1\" class=\"dataframe\">\n",
       "  <thead>\n",
       "    <tr style=\"text-align: right;\">\n",
       "      <th></th>\n",
       "      <th>Cement</th>\n",
       "      <th>Blast Furnace Slag</th>\n",
       "      <th>Fly Ash</th>\n",
       "      <th>Water</th>\n",
       "      <th>Superplasticizer</th>\n",
       "      <th>Coarse Aggregate</th>\n",
       "      <th>Fine Aggregate</th>\n",
       "      <th>Age</th>\n",
       "    </tr>\n",
       "  </thead>\n",
       "  <tbody>\n",
       "    <tr>\n",
       "      <th>0</th>\n",
       "      <td>2.476712</td>\n",
       "      <td>-0.856472</td>\n",
       "      <td>-0.846733</td>\n",
       "      <td>-0.916319</td>\n",
       "      <td>-0.620147</td>\n",
       "      <td>0.862735</td>\n",
       "      <td>-1.217079</td>\n",
       "      <td>-0.279597</td>\n",
       "    </tr>\n",
       "    <tr>\n",
       "      <th>1</th>\n",
       "      <td>2.476712</td>\n",
       "      <td>-0.856472</td>\n",
       "      <td>-0.846733</td>\n",
       "      <td>-0.916319</td>\n",
       "      <td>-0.620147</td>\n",
       "      <td>1.055651</td>\n",
       "      <td>-1.217079</td>\n",
       "      <td>-0.279597</td>\n",
       "    </tr>\n",
       "    <tr>\n",
       "      <th>2</th>\n",
       "      <td>0.491187</td>\n",
       "      <td>0.795140</td>\n",
       "      <td>-0.846733</td>\n",
       "      <td>2.174405</td>\n",
       "      <td>-1.038638</td>\n",
       "      <td>-0.526262</td>\n",
       "      <td>-2.239829</td>\n",
       "      <td>3.551340</td>\n",
       "    </tr>\n",
       "    <tr>\n",
       "      <th>3</th>\n",
       "      <td>0.491187</td>\n",
       "      <td>0.795140</td>\n",
       "      <td>-0.846733</td>\n",
       "      <td>2.174405</td>\n",
       "      <td>-1.038638</td>\n",
       "      <td>-0.526262</td>\n",
       "      <td>-2.239829</td>\n",
       "      <td>5.055221</td>\n",
       "    </tr>\n",
       "    <tr>\n",
       "      <th>4</th>\n",
       "      <td>-0.790075</td>\n",
       "      <td>0.678079</td>\n",
       "      <td>-0.846733</td>\n",
       "      <td>0.488555</td>\n",
       "      <td>-1.038638</td>\n",
       "      <td>0.070492</td>\n",
       "      <td>0.647569</td>\n",
       "      <td>4.976069</td>\n",
       "    </tr>\n",
       "  </tbody>\n",
       "</table>\n",
       "</div>"
      ],
      "text/plain": [
       "     Cement  Blast Furnace Slag   Fly Ash     Water  Superplasticizer  \\\n",
       "0  2.476712           -0.856472 -0.846733 -0.916319         -0.620147   \n",
       "1  2.476712           -0.856472 -0.846733 -0.916319         -0.620147   \n",
       "2  0.491187            0.795140 -0.846733  2.174405         -1.038638   \n",
       "3  0.491187            0.795140 -0.846733  2.174405         -1.038638   \n",
       "4 -0.790075            0.678079 -0.846733  0.488555         -1.038638   \n",
       "\n",
       "   Coarse Aggregate  Fine Aggregate       Age  \n",
       "0          0.862735       -1.217079 -0.279597  \n",
       "1          1.055651       -1.217079 -0.279597  \n",
       "2         -0.526262       -2.239829  3.551340  \n",
       "3         -0.526262       -2.239829  5.055221  \n",
       "4          0.070492        0.647569  4.976069  "
      ]
     },
     "execution_count": 49,
     "metadata": {},
     "output_type": "execute_result"
    }
   ],
   "source": [
    "target.head()\n",
    "predictors_norm = (predictors - predictors.mean()) / predictors.std()\n",
    "predictors_norm.head()"
   ]
  },
  {
   "cell_type": "code",
   "execution_count": 50,
   "metadata": {},
   "outputs": [
    {
     "data": {
      "text/plain": [
       "8"
      ]
     },
     "execution_count": 50,
     "metadata": {},
     "output_type": "execute_result"
    }
   ],
   "source": [
    "n_cols = predictors_norm.shape[1] # number of predictors\n",
    "n_cols\n"
   ]
  },
  {
   "cell_type": "markdown",
   "metadata": {},
   "source": [
    "# Import Keras"
   ]
  },
  {
   "cell_type": "code",
   "execution_count": 33,
   "metadata": {},
   "outputs": [],
   "source": [
    "import keras"
   ]
  },
  {
   "cell_type": "code",
   "execution_count": 34,
   "metadata": {},
   "outputs": [],
   "source": [
    "from keras.models import Sequential\n",
    "from keras.layers import Dense"
   ]
  },
  {
   "cell_type": "code",
   "execution_count": 35,
   "metadata": {},
   "outputs": [],
   "source": [
    "# define regression model\n",
    "def regression_model():\n",
    "    # create model\n",
    "    model = Sequential()\n",
    "    model.add(Dense(10, activation='relu', input_shape=(n_cols,)))\n",
    "    model.add(Dense(1))\n",
    "    \n",
    "    # compile model\n",
    "    model.compile(optimizer='adam', loss='mean_squared_error')\n",
    "    return model"
   ]
  },
  {
   "cell_type": "code",
   "execution_count": 36,
   "metadata": {},
   "outputs": [],
   "source": [
    "\n",
    "from sklearn.model_selection import train_test_split"
   ]
  },
  {
   "cell_type": "code",
   "execution_count": 44,
   "metadata": {},
   "outputs": [],
   "source": [
    "X_train, X_test, y_train, y_test = train_test_split(predictors, target, test_size=0.3, random_state=42)"
   ]
  },
  {
   "cell_type": "markdown",
   "metadata": {},
   "source": [
    "# Train and Test the Network¶\n",
    "###### Let's call the function now to create our model."
   ]
  },
  {
   "cell_type": "code",
   "execution_count": 38,
   "metadata": {},
   "outputs": [],
   "source": [
    "# build the model\n",
    "model = regression_model()"
   ]
  },
  {
   "cell_type": "code",
   "execution_count": 55,
   "metadata": {},
   "outputs": [
    {
     "name": "stdout",
     "output_type": "stream",
     "text": [
      "Epoch 1/100\n",
      "721/721 [==============================] - 0s 109us/step - loss: 41.6332\n",
      "Epoch 2/100\n",
      "721/721 [==============================] - 0s 56us/step - loss: 40.2965\n",
      "Epoch 3/100\n",
      "721/721 [==============================] - 0s 61us/step - loss: 39.1250\n",
      "Epoch 4/100\n",
      "721/721 [==============================] - 0s 79us/step - loss: 37.9345\n",
      "Epoch 5/100\n",
      "721/721 [==============================] - 0s 69us/step - loss: 38.5880\n",
      "Epoch 6/100\n",
      "721/721 [==============================] - 0s 81us/step - loss: 38.0652\n",
      "Epoch 7/100\n",
      "721/721 [==============================] - 0s 67us/step - loss: 37.6825\n",
      "Epoch 8/100\n",
      "721/721 [==============================] - 0s 64us/step - loss: 37.7722\n",
      "Epoch 9/100\n",
      "721/721 [==============================] - 0s 67us/step - loss: 39.5253\n",
      "Epoch 10/100\n",
      "721/721 [==============================] - 0s 56us/step - loss: 39.1537\n",
      "Epoch 11/100\n",
      "721/721 [==============================] - 0s 61us/step - loss: 38.2315\n",
      "Epoch 12/100\n",
      "721/721 [==============================] - 0s 59us/step - loss: 39.3083\n",
      "Epoch 13/100\n",
      "721/721 [==============================] - 0s 70us/step - loss: 38.1113\n",
      "Epoch 14/100\n",
      "721/721 [==============================] - 0s 61us/step - loss: 38.5442\n",
      "Epoch 15/100\n",
      "721/721 [==============================] - 0s 71us/step - loss: 38.8731\n",
      "Epoch 16/100\n",
      "721/721 [==============================] - 0s 70us/step - loss: 38.9494\n",
      "Epoch 17/100\n",
      "721/721 [==============================] - 0s 84us/step - loss: 37.7906\n",
      "Epoch 18/100\n",
      "721/721 [==============================] - 0s 97us/step - loss: 37.9226\n",
      "Epoch 19/100\n",
      "721/721 [==============================] - 0s 79us/step - loss: 38.1957\n",
      "Epoch 20/100\n",
      "721/721 [==============================] - 0s 70us/step - loss: 38.2235\n",
      "Epoch 21/100\n",
      "721/721 [==============================] - 0s 90us/step - loss: 40.3050\n",
      "Epoch 22/100\n",
      "721/721 [==============================] - 0s 98us/step - loss: 37.4911\n",
      "Epoch 23/100\n",
      "721/721 [==============================] - 0s 55us/step - loss: 38.2751\n",
      "Epoch 24/100\n",
      "721/721 [==============================] - 0s 59us/step - loss: 39.1198\n",
      "Epoch 25/100\n",
      "721/721 [==============================] - 0s 58us/step - loss: 39.9495\n",
      "Epoch 26/100\n",
      "721/721 [==============================] - 0s 69us/step - loss: 39.9608\n",
      "Epoch 27/100\n",
      "721/721 [==============================] - 0s 56us/step - loss: 39.1044\n",
      "Epoch 28/100\n",
      "721/721 [==============================] - 0s 79us/step - loss: 38.5406\n",
      "Epoch 29/100\n",
      "721/721 [==============================] - 0s 62us/step - loss: 38.1804\n",
      "Epoch 30/100\n",
      "721/721 [==============================] - 0s 61us/step - loss: 37.6717\n",
      "Epoch 31/100\n",
      "721/721 [==============================] - 0s 56us/step - loss: 38.0328\n",
      "Epoch 32/100\n",
      "721/721 [==============================] - 0s 57us/step - loss: 37.8443\n",
      "Epoch 33/100\n",
      "721/721 [==============================] - 0s 70us/step - loss: 38.6069\n",
      "Epoch 34/100\n",
      "721/721 [==============================] - 0s 61us/step - loss: 38.2342\n",
      "Epoch 35/100\n",
      "721/721 [==============================] - 0s 57us/step - loss: 37.8355\n",
      "Epoch 36/100\n",
      "721/721 [==============================] - 0s 67us/step - loss: 39.7737\n",
      "Epoch 37/100\n",
      "721/721 [==============================] - 0s 93us/step - loss: 38.0331\n",
      "Epoch 38/100\n",
      "721/721 [==============================] - 0s 101us/step - loss: 39.1523\n",
      "Epoch 39/100\n",
      "721/721 [==============================] - 0s 57us/step - loss: 38.9688\n",
      "Epoch 40/100\n",
      "721/721 [==============================] - 0s 60us/step - loss: 38.7378\n",
      "Epoch 41/100\n",
      "721/721 [==============================] - 0s 80us/step - loss: 37.7085\n",
      "Epoch 42/100\n",
      "721/721 [==============================] - 0s 73us/step - loss: 38.1487\n",
      "Epoch 43/100\n",
      "721/721 [==============================] - 0s 60us/step - loss: 38.4068\n",
      "Epoch 44/100\n",
      "721/721 [==============================] - 0s 52us/step - loss: 38.6647\n",
      "Epoch 45/100\n",
      "721/721 [==============================] - 0s 62us/step - loss: 42.4802\n",
      "Epoch 46/100\n",
      "721/721 [==============================] - 0s 65us/step - loss: 37.8318\n",
      "Epoch 47/100\n",
      "721/721 [==============================] - 0s 72us/step - loss: 39.6702\n",
      "Epoch 48/100\n",
      "721/721 [==============================] - 0s 58us/step - loss: 39.1094\n",
      "Epoch 49/100\n",
      "721/721 [==============================] - 0s 105us/step - loss: 39.2995\n",
      "Epoch 50/100\n",
      "721/721 [==============================] - 0s 100us/step - loss: 40.8758\n",
      "Epoch 51/100\n",
      "721/721 [==============================] - 0s 71us/step - loss: 39.7856\n",
      "Epoch 52/100\n",
      "721/721 [==============================] - 0s 76us/step - loss: 38.6048\n",
      "Epoch 53/100\n",
      "721/721 [==============================] - 0s 85us/step - loss: 39.6549\n",
      "Epoch 54/100\n",
      "721/721 [==============================] - 0s 85us/step - loss: 39.5257\n",
      "Epoch 55/100\n",
      "721/721 [==============================] - 0s 63us/step - loss: 37.5748\n",
      "Epoch 56/100\n",
      "721/721 [==============================] - 0s 88us/step - loss: 38.5013\n",
      "Epoch 57/100\n",
      "721/721 [==============================] - 0s 81us/step - loss: 42.9648\n",
      "Epoch 58/100\n",
      "721/721 [==============================] - 0s 72us/step - loss: 39.7261\n",
      "Epoch 59/100\n",
      "721/721 [==============================] - 0s 69us/step - loss: 38.6991\n",
      "Epoch 60/100\n",
      "721/721 [==============================] - 0s 61us/step - loss: 37.7289\n",
      "Epoch 61/100\n",
      "721/721 [==============================] - 0s 104us/step - loss: 37.4462\n",
      "Epoch 62/100\n",
      "721/721 [==============================] - 0s 99us/step - loss: 39.7444\n",
      "Epoch 63/100\n",
      "721/721 [==============================] - 0s 94us/step - loss: 38.1609\n",
      "Epoch 64/100\n",
      "721/721 [==============================] - 0s 70us/step - loss: 38.1793\n",
      "Epoch 65/100\n",
      "721/721 [==============================] - 0s 65us/step - loss: 38.4517\n",
      "Epoch 66/100\n",
      "721/721 [==============================] - 0s 58us/step - loss: 37.9198\n",
      "Epoch 67/100\n",
      "721/721 [==============================] - 0s 56us/step - loss: 38.0915\n",
      "Epoch 68/100\n",
      "721/721 [==============================] - 0s 63us/step - loss: 39.3368\n",
      "Epoch 69/100\n",
      "721/721 [==============================] - 0s 62us/step - loss: 38.6585\n",
      "Epoch 70/100\n",
      "721/721 [==============================] - 0s 75us/step - loss: 41.5688\n",
      "Epoch 71/100\n",
      "721/721 [==============================] - 0s 98us/step - loss: 38.9662\n",
      "Epoch 72/100\n",
      "721/721 [==============================] - 0s 86us/step - loss: 39.0472\n",
      "Epoch 73/100\n",
      "721/721 [==============================] - 0s 64us/step - loss: 40.0397\n",
      "Epoch 74/100\n",
      "721/721 [==============================] - 0s 62us/step - loss: 39.0209\n",
      "Epoch 75/100\n",
      "721/721 [==============================] - 0s 64us/step - loss: 38.2179\n",
      "Epoch 76/100\n",
      "721/721 [==============================] - 0s 73us/step - loss: 39.3792\n",
      "Epoch 77/100\n",
      "721/721 [==============================] - 0s 92us/step - loss: 41.3386\n",
      "Epoch 78/100\n",
      "721/721 [==============================] - 0s 111us/step - loss: 39.6858\n",
      "Epoch 79/100\n",
      "721/721 [==============================] - 0s 107us/step - loss: 39.1849\n",
      "Epoch 80/100\n",
      "721/721 [==============================] - 0s 80us/step - loss: 38.0349\n",
      "Epoch 81/100\n",
      "721/721 [==============================] - 0s 93us/step - loss: 39.2426\n",
      "Epoch 82/100\n",
      "721/721 [==============================] - 0s 103us/step - loss: 38.8527\n",
      "Epoch 83/100\n",
      "721/721 [==============================] - 0s 93us/step - loss: 40.1009 0s - loss: 38.87\n",
      "Epoch 84/100\n",
      "721/721 [==============================] - 0s 129us/step - loss: 41.0161\n",
      "Epoch 85/100\n",
      "721/721 [==============================] - 0s 107us/step - loss: 38.7003\n",
      "Epoch 86/100\n",
      "721/721 [==============================] - 0s 59us/step - loss: 39.3947\n",
      "Epoch 87/100\n",
      "721/721 [==============================] - 0s 59us/step - loss: 39.0826\n",
      "Epoch 88/100\n",
      "721/721 [==============================] - 0s 67us/step - loss: 38.7289\n",
      "Epoch 89/100\n",
      "721/721 [==============================] - 0s 84us/step - loss: 37.5631\n",
      "Epoch 90/100\n",
      "721/721 [==============================] - 0s 83us/step - loss: 38.1313\n",
      "Epoch 91/100\n",
      "721/721 [==============================] - 0s 86us/step - loss: 38.1822\n",
      "Epoch 92/100\n",
      "721/721 [==============================] - 0s 93us/step - loss: 39.5712\n",
      "Epoch 93/100\n",
      "721/721 [==============================] - 0s 68us/step - loss: 39.8183\n",
      "Epoch 94/100\n",
      "721/721 [==============================] - 0s 74us/step - loss: 38.5167\n",
      "Epoch 95/100\n",
      "721/721 [==============================] - 0s 69us/step - loss: 38.6821\n",
      "Epoch 96/100\n",
      "721/721 [==============================] - 0s 90us/step - loss: 38.3641\n",
      "Epoch 97/100\n",
      "721/721 [==============================] - 0s 88us/step - loss: 37.7740\n",
      "Epoch 98/100\n",
      "721/721 [==============================] - 0s 64us/step - loss: 38.8983\n",
      "Epoch 99/100\n",
      "721/721 [==============================] - 0s 57us/step - loss: 37.9015\n",
      "Epoch 100/100\n",
      "721/721 [==============================] - 0s 57us/step - loss: 37.8157\n"
     ]
    },
    {
     "data": {
      "text/plain": [
       "<keras.callbacks.History at 0x7f1cb01e7e48>"
      ]
     },
     "execution_count": 55,
     "metadata": {},
     "output_type": "execute_result"
    }
   ],
   "source": [
    "\n",
    "# fit the model\n",
    "epochs = 100\n",
    "model.fit(X_train, y_train, epochs=epochs, verbose=1)"
   ]
  },
  {
   "cell_type": "markdown",
   "metadata": {},
   "source": [
    "#### Next we need to evaluate the model on the test data."
   ]
  },
  {
   "cell_type": "code",
   "execution_count": 56,
   "metadata": {},
   "outputs": [
    {
     "name": "stdout",
     "output_type": "stream",
     "text": [
      "309/309 [==============================] - 0s 145us/step\n"
     ]
    },
    {
     "data": {
      "text/plain": [
       "42.82182204607621"
      ]
     },
     "execution_count": 56,
     "metadata": {},
     "output_type": "execute_result"
    }
   ],
   "source": [
    "loss_val = model.evaluate(X_test, y_test)\n",
    "y_pred = model.predict(X_test)\n",
    "loss_val"
   ]
  },
  {
   "cell_type": "markdown",
   "metadata": {},
   "source": [
    "## Now we need to compute the mean squared error between the predicted concrete strength and the actual concrete strength.\n",
    "\n",
    "#### Let's import the mean_squared_error function from Scikit-learn."
   ]
  },
  {
   "cell_type": "code",
   "execution_count": 57,
   "metadata": {},
   "outputs": [],
   "source": [
    "from sklearn.metrics import mean_squared_error"
   ]
  },
  {
   "cell_type": "code",
   "execution_count": 58,
   "metadata": {},
   "outputs": [
    {
     "name": "stdout",
     "output_type": "stream",
     "text": [
      "42.82182142259439 0.0\n"
     ]
    }
   ],
   "source": [
    "mean_square_error = mean_squared_error(y_test, y_pred)\n",
    "mean = np.mean(mean_square_error)\n",
    "standard_deviation = np.std(mean_square_error)\n",
    "print(mean, standard_deviation)"
   ]
  },
  {
   "cell_type": "markdown",
   "metadata": {},
   "source": [
    "### Create a list of 50 mean squared errors and report mean and the standard deviation of the mean squared errors."
   ]
  },
  {
   "cell_type": "code",
   "execution_count": 59,
   "metadata": {},
   "outputs": [
    {
     "name": "stdout",
     "output_type": "stream",
     "text": [
      "MSE 1: 45.7594626590272\n",
      "MSE 2: 48.09443210243793\n",
      "MSE 3: 36.27450943610429\n",
      "MSE 4: 49.30532465320575\n",
      "MSE 5: 41.68616185604947\n",
      "MSE 6: 41.06322484186166\n",
      "MSE 7: 48.54149190661977\n",
      "MSE 8: 42.09405500294707\n",
      "MSE 9: 37.7147454073514\n",
      "MSE 10: 55.86878285824674\n",
      "MSE 11: 40.87414601396974\n",
      "MSE 12: 38.6977266848666\n",
      "MSE 13: 44.38123551155757\n",
      "MSE 14: 44.99717260564415\n",
      "MSE 15: 42.40075863835109\n",
      "MSE 16: 38.39474620016647\n",
      "MSE 17: 42.69000845356666\n",
      "MSE 18: 42.47142127570982\n",
      "MSE 19: 36.75344490619153\n",
      "MSE 20: 43.52254123132206\n",
      "MSE 21: 42.53694819478155\n",
      "MSE 22: 38.85528571860304\n",
      "MSE 23: 34.457478063392024\n",
      "MSE 24: 36.45192392589976\n",
      "MSE 25: 43.334814417323635\n",
      "MSE 26: 42.049145102886705\n",
      "MSE 27: 40.325896352625975\n",
      "MSE 28: 36.33818401719374\n",
      "MSE 29: 41.9943979257133\n",
      "MSE 30: 41.31975865286917\n",
      "MSE 31: 43.73491885978427\n",
      "MSE 32: 33.40953163344498\n",
      "MSE 33: 37.41547803662741\n",
      "MSE 34: 37.921907727386575\n",
      "MSE 35: 39.39574400275271\n",
      "MSE 36: 38.51147604760229\n",
      "MSE 37: 40.73950474007616\n",
      "MSE 38: 42.76837511278665\n",
      "MSE 39: 38.65727589431318\n",
      "MSE 40: 32.346894816673306\n",
      "MSE 41: 42.83718582573061\n",
      "MSE 42: 35.589463255552026\n",
      "MSE 43: 38.62656113707904\n",
      "MSE 44: 48.06203237243455\n",
      "MSE 45: 42.60247131150131\n",
      "MSE 46: 40.87368670713554\n",
      "MSE 47: 43.12200225286885\n",
      "MSE 48: 41.331705827929056\n",
      "MSE 49: 44.18252712854675\n",
      "MSE 50: 40.059611459380214\n",
      "\n",
      "\n",
      "Below is the mean and standard deviation of 50 mean squared errors without normalized data. Total number of epochs for each training is: 100\n",
      "\n",
      "Mean: 41.228751270181874\n",
      "Standard Deviation: 4.264690166108659\n"
     ]
    }
   ],
   "source": [
    "total_mean_squared_errors = 50\n",
    "epochs = 100\n",
    "mean_squared_errors = []\n",
    "for i in range(0, total_mean_squared_errors):\n",
    "    X_train, X_test, y_train, y_test = train_test_split(predictors, target, test_size=0.3, random_state=i)\n",
    "    model.fit(X_train, y_train, epochs=epochs, verbose=0)\n",
    "    MSE = model.evaluate(X_test, y_test, verbose=0)\n",
    "    print(\"MSE \"+str(i+1)+\": \"+str(MSE))\n",
    "    y_pred = model.predict(X_test)\n",
    "    mean_square_error = mean_squared_error(y_test, y_pred)\n",
    "    mean_squared_errors.append(mean_square_error)\n",
    "\n",
    "mean_squared_errors = np.array(mean_squared_errors)\n",
    "mean = np.mean(mean_squared_errors)\n",
    "standard_deviation = np.std(mean_squared_errors)\n",
    "\n",
    "print('\\n')\n",
    "print(\"Below is the mean and standard deviation of \" +str(total_mean_squared_errors) + \" mean squared errors without normalized data. Total number of epochs for each training is: \" +str(epochs) + \"\\n\")\n",
    "print(\"Mean: \"+str(mean))\n",
    "print(\"Standard Deviation: \"+str(standard_deviation))"
   ]
  },
  {
   "cell_type": "code",
   "execution_count": null,
   "metadata": {},
   "outputs": [],
   "source": []
  }
 ],
 "metadata": {
  "kernelspec": {
   "display_name": "Python",
   "language": "python",
   "name": "conda-env-python-py"
  },
  "language_info": {
   "codemirror_mode": {
    "name": "ipython",
    "version": 3
   },
   "file_extension": ".py",
   "mimetype": "text/x-python",
   "name": "python",
   "nbconvert_exporter": "python",
   "pygments_lexer": "ipython3",
   "version": "3.6.7"
  }
 },
 "nbformat": 4,
 "nbformat_minor": 4
}
